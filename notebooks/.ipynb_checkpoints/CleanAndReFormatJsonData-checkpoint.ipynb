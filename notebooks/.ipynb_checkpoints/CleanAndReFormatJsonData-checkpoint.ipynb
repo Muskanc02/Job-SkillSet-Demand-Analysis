{
 "cells": [
  {
   "cell_type": "code",
   "execution_count": 2,
   "id": "38e0525a-b94e-4659-9672-6e8055a6da74",
   "metadata": {},
   "outputs": [
    {
     "ename": "ModuleNotFoundError",
     "evalue": "No module named 'langdetect'",
     "output_type": "error",
     "traceback": [
      "\u001b[31m---------------------------------------------------------------------------\u001b[39m",
      "\u001b[31mModuleNotFoundError\u001b[39m                       Traceback (most recent call last)",
      "\u001b[36mCell\u001b[39m\u001b[36m \u001b[39m\u001b[32mIn[2]\u001b[39m\u001b[32m, line 4\u001b[39m\n\u001b[32m      2\u001b[39m \u001b[38;5;28;01mimport\u001b[39;00m\u001b[38;5;250m \u001b[39m\u001b[34;01mjson\u001b[39;00m\n\u001b[32m      3\u001b[39m \u001b[38;5;28;01mimport\u001b[39;00m\u001b[38;5;250m \u001b[39m\u001b[34;01mos\u001b[39;00m\n\u001b[32m----> \u001b[39m\u001b[32m4\u001b[39m \u001b[38;5;28;01mimport\u001b[39;00m\u001b[38;5;250m \u001b[39m\u001b[34;01mfunctionsForFormatting\u001b[39;00m\u001b[38;5;250m \u001b[39m\u001b[38;5;28;01mas\u001b[39;00m\u001b[38;5;250m \u001b[39m\u001b[34;01mff\u001b[39;00m\n",
      "\u001b[36mFile \u001b[39m\u001b[32m~/Documents/IronHack/Bootcamp/Week8/Final_Project/notebooks/functionsForFormatting.py:4\u001b[39m\n\u001b[32m      2\u001b[39m \u001b[38;5;28;01mimport\u001b[39;00m\u001b[38;5;250m \u001b[39m\u001b[34;01mjson\u001b[39;00m\n\u001b[32m      3\u001b[39m \u001b[38;5;28;01mimport\u001b[39;00m\u001b[38;5;250m \u001b[39m\u001b[34;01mos\u001b[39;00m\n\u001b[32m----> \u001b[39m\u001b[32m4\u001b[39m \u001b[38;5;28;01mfrom\u001b[39;00m\u001b[38;5;250m \u001b[39m\u001b[34;01mlangdetect\u001b[39;00m\u001b[38;5;250m \u001b[39m\u001b[38;5;28;01mimport\u001b[39;00m detect, DetectorFactory\n\u001b[32m      5\u001b[39m \u001b[38;5;28;01mimport\u001b[39;00m\u001b[38;5;250m \u001b[39m\u001b[34;01mre\u001b[39;00m\n\u001b[32m      6\u001b[39m \u001b[38;5;66;03m# Ensure consistent language detection\u001b[39;00m\n",
      "\u001b[31mModuleNotFoundError\u001b[39m: No module named 'langdetect'"
     ]
    }
   ],
   "source": [
    "import pandas as pd\n",
    "import json\n",
    "import os\n",
    "import functionsForFormatting as ff"
   ]
  },
  {
   "cell_type": "code",
   "execution_count": null,
   "id": "a66dfd3b-e241-4416-b7b2-e525e801c373",
   "metadata": {},
   "outputs": [],
   "source": [
    "\n",
    "dataframe=ff.joinAllJsonToDF()\n",
    "# Remove duplicate job IDs (keeping the first occurrence)\n",
    "final_df_wo_duplicates = dataframe.drop_duplicates(subset=[\"job_id\"], keep=\"first\")\n",
    "\n",
    "# Save the final DataFrame to a single CSV file\n",
    "#final_df.to_csv(\"all_jobs_cleaned.csv\", index=False)\n",
    "\n",
    "#print(\"All job listings have been combined, duplicates removed, and saved to 'all_jobs_cleaned.csv'.\")\n",
    "display(final_df_wo_duplicates.head())"
   ]
  },
  {
   "cell_type": "code",
   "execution_count": null,
   "id": "bed4ed7a-4255-46fd-a8e7-cbb13b346e28",
   "metadata": {},
   "outputs": [],
   "source": [
    "final_df_wo_duplicates.shape"
   ]
  },
  {
   "cell_type": "code",
   "execution_count": null,
   "id": "7e313c0a-e778-43f8-8fd0-e0bac6717ea5",
   "metadata": {},
   "outputs": [],
   "source": [
    "# apply extract skills method to create skill set column\n",
    "# Apply function to extract skills\n",
    "# Add new column using .loc\n",
    "final_df_wo_duplicates.loc[:,\"Skill_Set\"] = final_df_wo_duplicates[\"description\"].apply(ff.extract_skills)\n",
    "\n"
   ]
  },
  {
   "cell_type": "code",
   "execution_count": null,
   "id": "79aa275c-4e79-486a-8522-63440c02c300",
   "metadata": {},
   "outputs": [],
   "source": [
    "# Apply function to populate 'Language' column\n",
    "final_df_wo_duplicates.loc[:,\"Language\"] = final_df_wo_duplicates[\"description\"].apply(ff.detect_language)\n"
   ]
  },
  {
   "cell_type": "code",
   "execution_count": null,
   "id": "551318e1-04be-40b2-b4f3-0d935febcb4c",
   "metadata": {},
   "outputs": [],
   "source": [
    "# Apply function to create new columns\n",
    "final_df_wo_duplicates[[\"City\", \"District\", \"Country\"]] = final_df_wo_duplicates[\"location\"].apply(split_location)\n"
   ]
  },
  {
   "cell_type": "code",
   "execution_count": null,
   "id": "4167170e-277a-4e6a-ad5b-3a47719ed6a6",
   "metadata": {},
   "outputs": [],
   "source": [
    "# Apply function to create new column \"Industry\"\n",
    "final_df_wo_duplicates.loc[:,\"Industry\"] = final_df_wo_duplicates[\"description\"].apply(detect_industry)"
   ]
  },
  {
   "cell_type": "code",
   "execution_count": null,
   "id": "501a5d96-8e93-4832-88c5-9394ee4c53ca",
   "metadata": {},
   "outputs": [],
   "source": [
    "final_df_wo_duplicates.head()"
   ]
  }
 ],
 "metadata": {
  "kernelspec": {
   "display_name": "Python (final_project_da)",
   "language": "python",
   "name": "final_project_da"
  },
  "language_info": {
   "codemirror_mode": {
    "name": "ipython",
    "version": 3
   },
   "file_extension": ".py",
   "mimetype": "text/x-python",
   "name": "python",
   "nbconvert_exporter": "python",
   "pygments_lexer": "ipython3",
   "version": "3.12.2"
  }
 },
 "nbformat": 4,
 "nbformat_minor": 5
}
