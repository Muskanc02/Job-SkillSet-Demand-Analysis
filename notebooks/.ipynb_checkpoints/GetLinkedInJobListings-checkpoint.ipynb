{
 "cells": [
  {
   "cell_type": "code",
   "execution_count": null,
   "id": "f7da75c3-aa14-417c-a415-82cf72e4a68a",
   "metadata": {},
   "outputs": [],
   "source": [
    "import pandas as pd\n",
    "import numpy as np\n",
    "import functions as func\n",
    "import matplotlib as plt\n",
    "import seaborn as sns\n",
    "import selenium as sel\n",
    "from selenium import webdriver\n",
    "from selenium.webdriver.chrome.service import Service\n",
    "from webdriver_manager.chrome import ChromeDriverManager\n",
    "from selenium.webdriver.chrome.options import Options\n",
    "import pickle\n",
    "import time\n",
    "from selenium.webdriver.common.by import By\n",
    "from selenium.webdriver.common.keys import Keys\n",
    "from selenium.webdriver.support.ui import WebDriverWait\n",
    "from selenium.webdriver.support import expected_conditions as EC\n",
    "from selenium.webdriver.common.by import By\n",
    "\n"
   ]
  },
  {
   "cell_type": "markdown",
   "id": "cb18eb63-96eb-4470-8392-62b02fd5b1c0",
   "metadata": {},
   "source": [
    "### Create driver and login using cookies"
   ]
  },
  {
   "cell_type": "code",
   "execution_count": null,
   "id": "1a87807b-862f-4020-8e8e-888557736504",
   "metadata": {},
   "outputs": [],
   "source": [
    "# File to store cookies\n",
    "cookie_file = \"linkedin_cookies.pkl\" \n",
    "# Set up WebDriver\n",
    "driver = webdriver.Chrome(service=Service(ChromeDriverManager().install()))\n",
    "\n",
    "# List of job titles you want to search\n",
    "job_titles = [ \"data analyst\",\"Data Engineer\",\"Data scientist\",\"marketing analyst\",\"financial analyst\"]\n",
    "\n",
    "# If cookies exist, load them and visit the job search page\n",
    "func.login_and_save_cookies(cookie_file,driver)"
   ]
  },
  {
   "cell_type": "markdown",
   "id": "f94b32bb-0172-4458-b8f5-5ea373907428",
   "metadata": {},
   "source": [
    "### Web scraping script to fetch data from LinkedIn"
   ]
  },
  {
   "cell_type": "code",
   "execution_count": null,
   "id": "46be162d-6a9f-4a3d-a148-e177124ab52d",
   "metadata": {
    "scrolled": true
   },
   "outputs": [],
   "source": [
    "# Now, navigate to the job search page using job titles and create url\n",
    "job_dict={}\n",
    "for title in job_titles:\n",
    "    linkedin_job_search_url = f\"https://www.linkedin.com/jobs/search/?keywords={title.replace(' ', '%20')}\"\n",
    "    driver.get(linkedin_job_search_url)\n",
    "    \n",
    "    # Wait for the job search page to load\n",
    "    time.sleep(5) \n",
    "    wait = WebDriverWait(driver, 10)\n",
    "    job_links_list=[]\n",
    "   \n",
    "    # Scroll the page to load more job listings\n",
    "    for _ in range(4):\n",
    "        driver.find_element(By.TAG_NAME, \"body\").send_keys(Keys.PAGE_DOWN)\n",
    "        time.sleep(2)\n",
    "        # Find all job listings on the left panel which are clickable links\n",
    "        func.fetch_and_store_job_listings(driver, job_links_list,job_dict)\n",
    "        print(\"Completed first page\")\n",
    "        print(f\" Total jobs fetched : {len(job_links_list)} \")\n",
    "    # Loop through all pages till 40\n",
    "    for page_number in range(2, 40):\n",
    "        try:\n",
    "            # Wait for the page button to be clickable\n",
    "            page_button = WebDriverWait(driver, 25).until(\n",
    "                EC.element_to_be_clickable((By.XPATH, f'//div[contains(@class, \"jobs-search-results-list__pagination\")]//button[@aria-label=\"Page {page_number}\"]'))\n",
    "            )\n",
    "    \n",
    "            # Click the button\n",
    "            page_button.click()\n",
    "            print(f\"Clicked Page {page_number}, waiting for jobs to load...\")\n",
    "    \n",
    "    \n",
    "            # Wait for the page to load before moving to the next page\n",
    "            WebDriverWait(driver, 10).until(\n",
    "                EC.presence_of_element_located((By.XPATH, '//div[contains(@class, \"jobs-search-results-list__pagination\")]//button[@aria-label=\"Page {}\"]'.format(page_number)))\n",
    "            )\n",
    "            \n",
    "            # Adjust the range to control the number of scrolls per page\n",
    "            for _ in range(2):\n",
    "                driver.find_element(By.TAG_NAME, \"body\").send_keys(Keys.PAGE_DOWN)\n",
    "                #wait after scrolling to load all jobs\n",
    "                time.sleep(2) \n",
    "           \n",
    "            time.sleep(3)\n",
    "            func.fetch_and_store_job_listings(driver, job_links_list,job_dict)\n",
    "            print(f\" Total jobs fetched : {len(job_links_list)} \")\n",
    "            print(f\"Successfully clicked Page {page_number}\")\n",
    "      \n",
    "        except Exception as e:\n",
    "            print(f\"Failed to click Page {page_number}: {e}\")\n",
    "     \n",
    "    print(f\"Completed web scraping data for job listings with title :{title} with total jobs fetched {len(job_links_list)}\")\n",
    "    print(f\"Jobs added to dictionary : {len(job_dict.keys())}\")\n",
    "\n",
    "#Close the browser after scraping\n",
    "driver.quit()\n",
    "print(f\" Completed web scraping data for all job listings with all titles\")"
   ]
  },
  {
   "cell_type": "code",
   "execution_count": null,
   "id": "8a882fd9-f66e-4720-9204-2bf2395aadea",
   "metadata": {},
   "outputs": [],
   "source": [
    "# Save to a JSON file\n",
    "\n",
    "# Define the folder path\n",
    "folder_path = \"/Users/muskanchawla/Documents/IronHack/Bootcamp/Week8/Final_Project/data/raw/json\"\n",
    "\n",
    "# Ensure the folder exists\n",
    "os.makedirs(folder_path, exist_ok=True)\n",
    "\n",
    "# Save the JSON file in the specified folder\n",
    "with open(os.path.join(folder_path, \"jobs_data.json\"), \"w\", encoding=\"utf-8\") as file:\n",
    "    json.dump(job_dict, file, indent=4)\n",
    "\n",
    "print(\"Job data saved to jobs_data.json\")"
   ]
  },
  {
   "cell_type": "code",
   "execution_count": null,
   "id": "15c385d5-5c80-4b8c-b342-2697f6f36854",
   "metadata": {},
   "outputs": [],
   "source": []
  },
  {
   "cell_type": "code",
   "execution_count": null,
   "id": "c85dc1e6-e15f-4482-9161-27c986e2ff56",
   "metadata": {},
   "outputs": [],
   "source": []
  }
 ],
 "metadata": {
  "kernelspec": {
   "display_name": "Python (final_project_da)",
   "language": "python",
   "name": "final_project_da"
  },
  "language_info": {
   "codemirror_mode": {
    "name": "ipython",
    "version": 3
   },
   "file_extension": ".py",
   "mimetype": "text/x-python",
   "name": "python",
   "nbconvert_exporter": "python",
   "pygments_lexer": "ipython3",
   "version": "3.12.2"
  }
 },
 "nbformat": 4,
 "nbformat_minor": 5
}
