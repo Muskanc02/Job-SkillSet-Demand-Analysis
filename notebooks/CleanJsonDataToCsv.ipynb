{
 "cells": [
  {
   "cell_type": "code",
   "execution_count": null,
   "id": "16751c13-c3e9-4723-b0fe-6be98e375c1c",
   "metadata": {},
   "outputs": [],
   "source": [
    "import pandas as pd\n",
    "import json\n",
    "import os\n",
    "import functionsForFormatting as ff"
   ]
  },
  {
   "cell_type": "code",
   "execution_count": null,
   "id": "7296306e-3786-495c-a4aa-9be0cc4b0b21",
   "metadata": {},
   "outputs": [],
   "source": [
    "#create dataframe combining all json files\n",
    "dataframe=ff.joinAllJsonToDF()\n",
    "\n",
    "# Remove duplicate job IDs (keeping the first occurrence)\n",
    "final_df_wo_duplicates = dataframe.drop_duplicates(subset=[\"job_id\"], keep=\"first\")\n",
    "display(final_df_wo_duplicates.head())"
   ]
  },
  {
   "cell_type": "code",
   "execution_count": null,
   "id": "a53810c2-4fcb-4559-a82d-eec466313ff5",
   "metadata": {},
   "outputs": [],
   "source": [
    "final_df_wo_duplicates.shape"
   ]
  },
  {
   "cell_type": "code",
   "execution_count": null,
   "id": "09162dee-003f-462c-88ef-d8f5e0d832d4",
   "metadata": {},
   "outputs": [],
   "source": [
    "# Apply extract skills method to create skill set column\n",
    "# Add new column using .loc\n",
    "final_df_wo_duplicates.loc[:,\"Skill_Set\"] = final_df_wo_duplicates[\"description\"].apply(ff.extract_skills)\n"
   ]
  },
  {
   "cell_type": "code",
   "execution_count": null,
   "id": "d9f73bdb-671f-475a-b21a-f9f036ef8993",
   "metadata": {},
   "outputs": [],
   "source": [
    "# Apply function to populate 'Language' column\n",
    "final_df_wo_duplicates.loc[:,\"Language\"] = final_df_wo_duplicates[\"description\"].apply(ff.detect_language)"
   ]
  },
  {
   "cell_type": "code",
   "execution_count": null,
   "id": "d1d3b886-929d-4f1a-a2b1-765d1993a973",
   "metadata": {},
   "outputs": [],
   "source": [
    "# Apply function to create new columns\n",
    "final_df_wo_duplicates[[\"City\", \"District\", \"Country\"]] = final_df_wo_duplicates[\"location\"].apply(ff.split_location)"
   ]
  },
  {
   "cell_type": "code",
   "execution_count": null,
   "id": "2e196c43-cf8c-482a-b99e-36741a0e69bc",
   "metadata": {},
   "outputs": [],
   "source": [
    "final_df_wo_duplicates.isnull().any()"
   ]
  },
  {
   "cell_type": "code",
   "execution_count": null,
   "id": "91206b5f-6922-432b-bb95-1ac52b3ed1b5",
   "metadata": {},
   "outputs": [],
   "source": [
    "# Fill missing values (NaN/None) in 'City' and 'District' columns\n",
    "final_df_wo_duplicates['City'] = final_df_wo_duplicates['City'].fillna('Unknown')\n",
    "final_df_wo_duplicates['District'] = final_df_wo_duplicates['District'].fillna('Unknown')\n"
   ]
  },
  {
   "cell_type": "code",
   "execution_count": null,
   "id": "b4470062-5f46-4576-b7fb-806537a14bbd",
   "metadata": {},
   "outputs": [],
   "source": [
    "# Apply lambda function to map values for country Germany and Spain\n",
    "final_df_wo_duplicates['Country'] = final_df_wo_duplicates['Country'].apply(lambda x: ff.location_to_country.get(x, x))\n"
   ]
  },
  {
   "cell_type": "code",
   "execution_count": null,
   "id": "bb05fc5e-c14d-4053-bb14-32a8089162be",
   "metadata": {},
   "outputs": [],
   "source": [
    "# Apply function to create new column \"Industry\"\n",
    "final_df_wo_duplicates.loc[:,\"Industry\"] = final_df_wo_duplicates[\"description\"].apply(ff.detect_industry)"
   ]
  },
  {
   "cell_type": "code",
   "execution_count": null,
   "id": "f5b30c14-56d1-4f5f-8f60-7bc86a830f05",
   "metadata": {},
   "outputs": [],
   "source": [
    "# change the datatype of job_id to int\n",
    "final_df_wo_duplicates[\"job_id\"] = final_df_wo_duplicates[\"job_id\"].astype(int)"
   ]
  },
  {
   "cell_type": "code",
   "execution_count": null,
   "id": "3a22ea32-3a88-4353-8556-9e9664ea67a4",
   "metadata": {},
   "outputs": [],
   "source": [
    "#drop the job description column and location column and save to CSV\n",
    "final_df = final_df_wo_duplicates.drop(columns=['description', 'location'])"
   ]
  },
  {
   "cell_type": "code",
   "execution_count": null,
   "id": "8e04bfaa-b522-4eac-b975-cc74832330e0",
   "metadata": {},
   "outputs": [],
   "source": [
    "final_df.head()"
   ]
  },
  {
   "cell_type": "code",
   "execution_count": null,
   "id": "bb54e29b-19a0-41a2-9484-fbfee6c639cb",
   "metadata": {},
   "outputs": [],
   "source": [
    "#add whole data to csv\n",
    "#final_df.to_csv('../data/clean/cleanedv4_jobListingsData.csv', index=False ,sep=\";\" , encoding='utf-8' )"
   ]
  },
  {
   "cell_type": "code",
   "execution_count": null,
   "id": "3f2750c3-4512-42ef-af50-095b5352f05c",
   "metadata": {},
   "outputs": [],
   "source": [
    "#add whole data to csv\n",
    "final_df.to_csv('../data/clean/cleanedv5_jobListingsData.csv', index=False , encoding='utf-8' )"
   ]
  },
  {
   "cell_type": "code",
   "execution_count": null,
   "id": "0c0de965-597a-4616-8d5c-5ac77da63871",
   "metadata": {},
   "outputs": [],
   "source": []
  }
 ],
 "metadata": {
  "kernelspec": {
   "display_name": "Python (final_project_da)",
   "language": "python",
   "name": "final_project_da"
  },
  "language_info": {
   "codemirror_mode": {
    "name": "ipython",
    "version": 3
   },
   "file_extension": ".py",
   "mimetype": "text/x-python",
   "name": "python",
   "nbconvert_exporter": "python",
   "pygments_lexer": "ipython3",
   "version": "3.12.2"
  }
 },
 "nbformat": 4,
 "nbformat_minor": 5
}
